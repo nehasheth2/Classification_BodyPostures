{
 "cells": [
  {
   "cell_type": "code",
   "execution_count": 1,
   "id": "b9a986b7-0c99-4d1d-99f7-6f41c211c83c",
   "metadata": {},
   "outputs": [],
   "source": [
    "import copy\n",
    "\n",
    "import pandas as pd\n",
    "pd.set_option('display.max_columns', None)\n",
    "pd.set_option('display.max_rows', None)\n",
    "\n",
    "import numpy as np\n",
    "import math\n",
    "\n",
    "import matplotlib.pyplot as plt\n",
    "import plotly.express as px\n",
    "import seaborn as sns\n",
    "\n",
    "from sklearn.preprocessing import StandardScaler \n",
    "from sklearn.model_selection import train_test_split\n",
    "\n",
    "from sklearn.model_selection import learning_curve\n",
    "from sklearn.svm import SVC\n",
    "from sklearn import metrics\n",
    "\n",
    "import plotly.express as px  # for data visualization\n",
    "import plotly.graph_objects as go # for data visualization"
   ]
  },
  {
   "cell_type": "code",
   "execution_count": 3,
   "id": "992ed63f-ec7c-4e9d-bce5-5ee23964dd45",
   "metadata": {},
   "outputs": [],
   "source": [
    "wearable_data = pd.read_csv('dataset-har-PUC-Rio-ugulino-dataset.csv')"
   ]
  },
  {
   "cell_type": "code",
   "execution_count": 4,
   "id": "98279666",
   "metadata": {},
   "outputs": [
    {
     "data": {
      "text/html": [
       "<div>\n",
       "<style scoped>\n",
       "    .dataframe tbody tr th:only-of-type {\n",
       "        vertical-align: middle;\n",
       "    }\n",
       "\n",
       "    .dataframe tbody tr th {\n",
       "        vertical-align: top;\n",
       "    }\n",
       "\n",
       "    .dataframe thead th {\n",
       "        text-align: right;\n",
       "    }\n",
       "</style>\n",
       "<table border=\"1\" class=\"dataframe\">\n",
       "  <thead>\n",
       "    <tr style=\"text-align: right;\">\n",
       "      <th></th>\n",
       "      <th>user</th>\n",
       "      <th>gender</th>\n",
       "      <th>age</th>\n",
       "      <th>how_tall_in_meters</th>\n",
       "      <th>weight</th>\n",
       "      <th>body_mass_index</th>\n",
       "      <th>x1</th>\n",
       "      <th>y1</th>\n",
       "      <th>z1</th>\n",
       "      <th>x2</th>\n",
       "      <th>y2</th>\n",
       "      <th>z2</th>\n",
       "      <th>x3</th>\n",
       "      <th>y3</th>\n",
       "      <th>z3</th>\n",
       "      <th>x4</th>\n",
       "      <th>y4</th>\n",
       "      <th>z4</th>\n",
       "      <th>class</th>\n",
       "    </tr>\n",
       "  </thead>\n",
       "  <tbody>\n",
       "    <tr>\n",
       "      <th>0</th>\n",
       "      <td>debora</td>\n",
       "      <td>Woman</td>\n",
       "      <td>46</td>\n",
       "      <td>162</td>\n",
       "      <td>75</td>\n",
       "      <td>286</td>\n",
       "      <td>-3</td>\n",
       "      <td>92</td>\n",
       "      <td>-63</td>\n",
       "      <td>-23</td>\n",
       "      <td>18</td>\n",
       "      <td>-19</td>\n",
       "      <td>5</td>\n",
       "      <td>104</td>\n",
       "      <td>-92</td>\n",
       "      <td>-150</td>\n",
       "      <td>-103</td>\n",
       "      <td>-147</td>\n",
       "      <td>sitting</td>\n",
       "    </tr>\n",
       "    <tr>\n",
       "      <th>1</th>\n",
       "      <td>debora</td>\n",
       "      <td>Woman</td>\n",
       "      <td>46</td>\n",
       "      <td>162</td>\n",
       "      <td>75</td>\n",
       "      <td>286</td>\n",
       "      <td>-3</td>\n",
       "      <td>94</td>\n",
       "      <td>-64</td>\n",
       "      <td>-21</td>\n",
       "      <td>18</td>\n",
       "      <td>-18</td>\n",
       "      <td>-14</td>\n",
       "      <td>104</td>\n",
       "      <td>-90</td>\n",
       "      <td>-149</td>\n",
       "      <td>-104</td>\n",
       "      <td>-145</td>\n",
       "      <td>sitting</td>\n",
       "    </tr>\n",
       "    <tr>\n",
       "      <th>2</th>\n",
       "      <td>debora</td>\n",
       "      <td>Woman</td>\n",
       "      <td>46</td>\n",
       "      <td>162</td>\n",
       "      <td>75</td>\n",
       "      <td>286</td>\n",
       "      <td>-1</td>\n",
       "      <td>97</td>\n",
       "      <td>-61</td>\n",
       "      <td>-12</td>\n",
       "      <td>20</td>\n",
       "      <td>-15</td>\n",
       "      <td>-13</td>\n",
       "      <td>104</td>\n",
       "      <td>-90</td>\n",
       "      <td>-151</td>\n",
       "      <td>-104</td>\n",
       "      <td>-144</td>\n",
       "      <td>sitting</td>\n",
       "    </tr>\n",
       "    <tr>\n",
       "      <th>3</th>\n",
       "      <td>debora</td>\n",
       "      <td>Woman</td>\n",
       "      <td>46</td>\n",
       "      <td>162</td>\n",
       "      <td>75</td>\n",
       "      <td>286</td>\n",
       "      <td>-2</td>\n",
       "      <td>96</td>\n",
       "      <td>-57</td>\n",
       "      <td>-15</td>\n",
       "      <td>21</td>\n",
       "      <td>-16</td>\n",
       "      <td>-13</td>\n",
       "      <td>104</td>\n",
       "      <td>-89</td>\n",
       "      <td>-153</td>\n",
       "      <td>-103</td>\n",
       "      <td>-142</td>\n",
       "      <td>sitting</td>\n",
       "    </tr>\n",
       "    <tr>\n",
       "      <th>4</th>\n",
       "      <td>debora</td>\n",
       "      <td>Woman</td>\n",
       "      <td>46</td>\n",
       "      <td>162</td>\n",
       "      <td>75</td>\n",
       "      <td>286</td>\n",
       "      <td>-1</td>\n",
       "      <td>96</td>\n",
       "      <td>-61</td>\n",
       "      <td>-13</td>\n",
       "      <td>20</td>\n",
       "      <td>-15</td>\n",
       "      <td>-13</td>\n",
       "      <td>104</td>\n",
       "      <td>-89</td>\n",
       "      <td>-153</td>\n",
       "      <td>-104</td>\n",
       "      <td>-143</td>\n",
       "      <td>sitting</td>\n",
       "    </tr>\n",
       "  </tbody>\n",
       "</table>\n",
       "</div>"
      ],
      "text/plain": [
       "     user gender  age  how_tall_in_meters  weight  body_mass_index  x1  y1  \\\n",
       "0  debora  Woman   46                 162      75              286  -3  92   \n",
       "1  debora  Woman   46                 162      75              286  -3  94   \n",
       "2  debora  Woman   46                 162      75              286  -1  97   \n",
       "3  debora  Woman   46                 162      75              286  -2  96   \n",
       "4  debora  Woman   46                 162      75              286  -1  96   \n",
       "\n",
       "   z1  x2  y2  z2  x3   y3  z3   x4   y4   z4    class  \n",
       "0 -63 -23  18 -19   5  104 -92 -150 -103 -147  sitting  \n",
       "1 -64 -21  18 -18 -14  104 -90 -149 -104 -145  sitting  \n",
       "2 -61 -12  20 -15 -13  104 -90 -151 -104 -144  sitting  \n",
       "3 -57 -15  21 -16 -13  104 -89 -153 -103 -142  sitting  \n",
       "4 -61 -13  20 -15 -13  104 -89 -153 -104 -143  sitting  "
      ]
     },
     "execution_count": 4,
     "metadata": {},
     "output_type": "execute_result"
    }
   ],
   "source": [
    "wearable_data.head()"
   ]
  },
  {
   "cell_type": "code",
   "execution_count": 135,
   "id": "a3699a26-f4b5-48b3-a0be-932c47cf5b6d",
   "metadata": {},
   "outputs": [],
   "source": [
    "wearable_data['gender'] = pd.Categorical(wearable_data.gender)\n",
    "wearable_data['class'] = pd.Categorical(wearable_data['class'])"
   ]
  },
  {
   "cell_type": "code",
   "execution_count": 136,
   "id": "151dd2d4-8342-402c-8fd6-70d4aa147399",
   "metadata": {},
   "outputs": [
    {
     "name": "stdout",
     "output_type": "stream",
     "text": [
      "The category distrbution for gender attribute {0: 'Man', 1: 'Woman'}\n"
     ]
    }
   ],
   "source": [
    "#Change gender to categorical\n",
    "wearable_data['gender'] = pd.Categorical(wearable_data.gender)\n",
    "category_dist = dict(enumerate(wearable_data.gender.cat.categories))\n",
    "print(\"The category distrbution for gender attribute {0}\".format(category_dist))\n",
    "wearable_data['gender_cat'] = wearable_data['gender'].cat.codes"
   ]
  },
  {
   "cell_type": "code",
   "execution_count": 137,
   "id": "c20ef193-04b5-4eae-ab73-cada633249d4",
   "metadata": {},
   "outputs": [
    {
     "name": "stdout",
     "output_type": "stream",
     "text": [
      "The category distrbution for class attribute {0: 'sitting', 1: 'sittingdown', 2: 'standing', 3: 'standingup', 4: 'walking'}\n"
     ]
    }
   ],
   "source": [
    "#Change class to categorical\n",
    "wearable_data['class'] = pd.Categorical(wearable_data['class'])\n",
    "category_dist = dict(enumerate(wearable_data['class'].cat.categories))\n",
    "print(\"The category distrbution for class attribute {0}\".format(category_dist))\n",
    "wearable_data['class_cat'] = wearable_data['class'].cat.codes"
   ]
  },
  {
   "cell_type": "code",
   "execution_count": 138,
   "id": "5ea6e4ba-f62b-405f-b568-e6aac7d4af9a",
   "metadata": {},
   "outputs": [
    {
     "data": {
      "text/html": [
       "<div>\n",
       "<style scoped>\n",
       "    .dataframe tbody tr th:only-of-type {\n",
       "        vertical-align: middle;\n",
       "    }\n",
       "\n",
       "    .dataframe tbody tr th {\n",
       "        vertical-align: top;\n",
       "    }\n",
       "\n",
       "    .dataframe thead th {\n",
       "        text-align: right;\n",
       "    }\n",
       "</style>\n",
       "<table border=\"1\" class=\"dataframe\">\n",
       "  <thead>\n",
       "    <tr style=\"text-align: right;\">\n",
       "      <th></th>\n",
       "      <th>user</th>\n",
       "      <th>gender</th>\n",
       "      <th>age</th>\n",
       "      <th>how_tall_in_meters</th>\n",
       "      <th>weight</th>\n",
       "      <th>body_mass_index</th>\n",
       "      <th>x1</th>\n",
       "      <th>y1</th>\n",
       "      <th>z1</th>\n",
       "      <th>x2</th>\n",
       "      <th>y2</th>\n",
       "      <th>z2</th>\n",
       "      <th>x3</th>\n",
       "      <th>y3</th>\n",
       "      <th>z3</th>\n",
       "      <th>x4</th>\n",
       "      <th>y4</th>\n",
       "      <th>z4</th>\n",
       "      <th>class</th>\n",
       "      <th>gender_cat</th>\n",
       "      <th>class_cat</th>\n",
       "    </tr>\n",
       "  </thead>\n",
       "  <tbody>\n",
       "    <tr>\n",
       "      <th>0</th>\n",
       "      <td>debora</td>\n",
       "      <td>Woman</td>\n",
       "      <td>46</td>\n",
       "      <td>162</td>\n",
       "      <td>75</td>\n",
       "      <td>286</td>\n",
       "      <td>-3</td>\n",
       "      <td>92</td>\n",
       "      <td>-63</td>\n",
       "      <td>-23</td>\n",
       "      <td>18</td>\n",
       "      <td>-19</td>\n",
       "      <td>5</td>\n",
       "      <td>104</td>\n",
       "      <td>-92</td>\n",
       "      <td>-150</td>\n",
       "      <td>-103</td>\n",
       "      <td>-147</td>\n",
       "      <td>sitting</td>\n",
       "      <td>1</td>\n",
       "      <td>0</td>\n",
       "    </tr>\n",
       "    <tr>\n",
       "      <th>1</th>\n",
       "      <td>debora</td>\n",
       "      <td>Woman</td>\n",
       "      <td>46</td>\n",
       "      <td>162</td>\n",
       "      <td>75</td>\n",
       "      <td>286</td>\n",
       "      <td>-3</td>\n",
       "      <td>94</td>\n",
       "      <td>-64</td>\n",
       "      <td>-21</td>\n",
       "      <td>18</td>\n",
       "      <td>-18</td>\n",
       "      <td>-14</td>\n",
       "      <td>104</td>\n",
       "      <td>-90</td>\n",
       "      <td>-149</td>\n",
       "      <td>-104</td>\n",
       "      <td>-145</td>\n",
       "      <td>sitting</td>\n",
       "      <td>1</td>\n",
       "      <td>0</td>\n",
       "    </tr>\n",
       "    <tr>\n",
       "      <th>2</th>\n",
       "      <td>debora</td>\n",
       "      <td>Woman</td>\n",
       "      <td>46</td>\n",
       "      <td>162</td>\n",
       "      <td>75</td>\n",
       "      <td>286</td>\n",
       "      <td>-1</td>\n",
       "      <td>97</td>\n",
       "      <td>-61</td>\n",
       "      <td>-12</td>\n",
       "      <td>20</td>\n",
       "      <td>-15</td>\n",
       "      <td>-13</td>\n",
       "      <td>104</td>\n",
       "      <td>-90</td>\n",
       "      <td>-151</td>\n",
       "      <td>-104</td>\n",
       "      <td>-144</td>\n",
       "      <td>sitting</td>\n",
       "      <td>1</td>\n",
       "      <td>0</td>\n",
       "    </tr>\n",
       "    <tr>\n",
       "      <th>3</th>\n",
       "      <td>debora</td>\n",
       "      <td>Woman</td>\n",
       "      <td>46</td>\n",
       "      <td>162</td>\n",
       "      <td>75</td>\n",
       "      <td>286</td>\n",
       "      <td>-2</td>\n",
       "      <td>96</td>\n",
       "      <td>-57</td>\n",
       "      <td>-15</td>\n",
       "      <td>21</td>\n",
       "      <td>-16</td>\n",
       "      <td>-13</td>\n",
       "      <td>104</td>\n",
       "      <td>-89</td>\n",
       "      <td>-153</td>\n",
       "      <td>-103</td>\n",
       "      <td>-142</td>\n",
       "      <td>sitting</td>\n",
       "      <td>1</td>\n",
       "      <td>0</td>\n",
       "    </tr>\n",
       "    <tr>\n",
       "      <th>4</th>\n",
       "      <td>debora</td>\n",
       "      <td>Woman</td>\n",
       "      <td>46</td>\n",
       "      <td>162</td>\n",
       "      <td>75</td>\n",
       "      <td>286</td>\n",
       "      <td>-1</td>\n",
       "      <td>96</td>\n",
       "      <td>-61</td>\n",
       "      <td>-13</td>\n",
       "      <td>20</td>\n",
       "      <td>-15</td>\n",
       "      <td>-13</td>\n",
       "      <td>104</td>\n",
       "      <td>-89</td>\n",
       "      <td>-153</td>\n",
       "      <td>-104</td>\n",
       "      <td>-143</td>\n",
       "      <td>sitting</td>\n",
       "      <td>1</td>\n",
       "      <td>0</td>\n",
       "    </tr>\n",
       "  </tbody>\n",
       "</table>\n",
       "</div>"
      ],
      "text/plain": [
       "     user gender  age  how_tall_in_meters  weight  body_mass_index  x1  y1  \\\n",
       "0  debora  Woman   46                 162      75              286  -3  92   \n",
       "1  debora  Woman   46                 162      75              286  -3  94   \n",
       "2  debora  Woman   46                 162      75              286  -1  97   \n",
       "3  debora  Woman   46                 162      75              286  -2  96   \n",
       "4  debora  Woman   46                 162      75              286  -1  96   \n",
       "\n",
       "   z1  x2  y2  z2  x3   y3  z3   x4   y4   z4    class  gender_cat  class_cat  \n",
       "0 -63 -23  18 -19   5  104 -92 -150 -103 -147  sitting           1          0  \n",
       "1 -64 -21  18 -18 -14  104 -90 -149 -104 -145  sitting           1          0  \n",
       "2 -61 -12  20 -15 -13  104 -90 -151 -104 -144  sitting           1          0  \n",
       "3 -57 -15  21 -16 -13  104 -89 -153 -103 -142  sitting           1          0  \n",
       "4 -61 -13  20 -15 -13  104 -89 -153 -104 -143  sitting           1          0  "
      ]
     },
     "execution_count": 138,
     "metadata": {},
     "output_type": "execute_result"
    }
   ],
   "source": [
    "wearable_data.head()"
   ]
  },
  {
   "cell_type": "markdown",
   "id": "03c49658-8cd5-4f94-927e-fee93dc9ee0d",
   "metadata": {},
   "source": [
    "## Transformation"
   ]
  },
  {
   "cell_type": "code",
   "execution_count": 145,
   "id": "d44a82af-391b-4b68-b030-fda1f08a238e",
   "metadata": {},
   "outputs": [],
   "source": [
    "X, y = wearable_data.drop(['user', 'gender', 'class', 'class_cat'], axis=1), wearable_data['class_cat']"
   ]
  },
  {
   "cell_type": "code",
   "execution_count": 146,
   "id": "5a53bee5-76d2-42cf-87d5-6867331bea1f",
   "metadata": {},
   "outputs": [],
   "source": [
    "scaler = StandardScaler()\n",
    "X_scaled = scaler.fit_transform(X)"
   ]
  },
  {
   "cell_type": "code",
   "execution_count": 147,
   "id": "48d0fec8-a8a6-44fc-9c38-f7a85f881121",
   "metadata": {},
   "outputs": [
    {
     "name": "stdout",
     "output_type": "stream",
     "text": [
      "First row of the standardized dataset\n",
      "[ 0.58668263 -0.37319438  0.37007877  0.80496163  0.31415835  0.15510422\n",
      "  0.76541851  0.38261059  0.3415156   0.80934764 -0.23603041 -0.00954964\n",
      "  0.0414573   0.46047725 -0.51955844  0.95687879  0.79616611]\n"
     ]
    }
   ],
   "source": [
    "print(\"First row of the standardized dataset\")\n",
    "print(X_scaled[0])"
   ]
  },
  {
   "cell_type": "code",
   "execution_count": 148,
   "id": "4f04b362-991a-482e-a045-a7cd791a74b9",
   "metadata": {},
   "outputs": [],
   "source": [
    "feature_names = list(X.columns)\n",
    "target_names = ['4', '3', '2', '1', '0']"
   ]
  },
  {
   "cell_type": "markdown",
   "id": "4413cabd-ae74-48ee-8e80-7c47f5d35d59",
   "metadata": {},
   "source": [
    "# Modeling"
   ]
  },
  {
   "cell_type": "markdown",
   "id": "dfe15cfd-fbe9-4c65-8019-1de189b0ee62",
   "metadata": {},
   "source": [
    "## Train - Test Split"
   ]
  },
  {
   "cell_type": "code",
   "execution_count": 149,
   "id": "d78f2581-f041-4f1b-950c-c0f7cf33e3d4",
   "metadata": {},
   "outputs": [],
   "source": [
    "X_train, X_test, y_train, y_test = train_test_split(X_scaled, y, test_size=0.4, random_state=42)"
   ]
  },
  {
   "cell_type": "code",
   "execution_count": 150,
   "id": "b0f2f2cd-60ac-4b8e-bfa5-11ad7647e475",
   "metadata": {},
   "outputs": [
    {
     "name": "stdout",
     "output_type": "stream",
     "text": [
      "-Dataset Size-\n",
      "Training dataset Set: 99379\n",
      "Test dataset Set: 66254\n"
     ]
    }
   ],
   "source": [
    "print('-Dataset Size-')\n",
    "print('Training dataset Set:', len(X_train))\n",
    "print('Test dataset Set:', len(X_test))"
   ]
  },
  {
   "cell_type": "code",
   "execution_count": 151,
   "id": "8c7eb5b2-04dc-473a-9b6f-8a47bc4ab4d6",
   "metadata": {},
   "outputs": [
    {
     "data": {
      "image/png": "[encoded data removed]",
      "text/plain": [
       "<Figure size 720x720 with 1 Axes>"
      ]
     },
     "metadata": {
      "needs_background": "light"
     },
     "output_type": "display_data"
    }
   ],
   "source": [
    "ax = sns.displot(y_train, kde=False, height=10)\n",
    "plt.xticks([0, 1, 2, 3, 4])\n",
    "ax.set_xticklabels(['sitting', 'sittingdown', 'standing', 'standingup', 'walking'])\n",
    "plt.title('Count Distribution on Training Label')\n",
    "\n",
    "plt.show()"
   ]
  },
  {
   "cell_type": "markdown",
   "id": "d34399a1-1c51-4ea3-87e4-036b54484c97",
   "metadata": {},
   "source": [
    "## SVM"
   ]
  },
  {
   "cell_type": "markdown",
   "id": "7f828cca-779b-4c60-ac12-199ee45f3ac4",
   "metadata": {},
   "source": [
    "### Kernel: RBF "
   ]
  },
  {
   "cell_type": "markdown",
   "id": "71f22fea-3662-463f-a8ab-0d5b59be1261",
   "metadata": {},
   "source": [
    "#### Training"
   ]
  },
  {
   "cell_type": "code",
   "execution_count": 152,
   "id": "f96d44a8-118a-4696-9492-358cfd9e4693",
   "metadata": {},
   "outputs": [],
   "source": [
    "svm_rbf = SVC(kernel ='rbf', random_state = 42, C = 1.0, probability=True)"
   ]
  },
  {
   "cell_type": "code",
   "execution_count": 153,
   "id": "cafb75e0-ee03-4bc1-8902-752a676dbd69",
   "metadata": {},
   "outputs": [
    {
     "data": {
      "text/html": [
       "<style>#sk-container-id-13 {color: black;background-color: white;}#sk-container-id-13 pre{padding: 0;}#sk-container-id-13 div.sk-toggleable {background-color: white;}#sk-container-id-13 label.sk-toggleable__label {cursor: pointer;display: block;width: 100%;margin-bottom: 0;padding: 0.3em;box-sizing: border-box;text-align: center;}#sk-container-id-13 label.sk-toggleable__label-arrow:before {content: \"▸\";float: left;margin-right: 0.25em;color: #696969;}#sk-container-id-13 label.sk-toggleable__label-arrow:hover:before {color: black;}#sk-container-id-13 div.sk-estimator:hover label.sk-toggleable__label-arrow:before {color: black;}#sk-container-id-13 div.sk-toggleable__content {max-height: 0;max-width: 0;overflow: hidden;text-align: left;background-color: #f0f8ff;}#sk-container-id-13 div.sk-toggleable__content pre {margin: 0.2em;color: black;border-radius: 0.25em;background-color: #f0f8ff;}#sk-container-id-13 input.sk-toggleable__control:checked~div.sk-toggleable__content {max-height: 200px;max-width: 100%;overflow: auto;}#sk-container-id-13 input.sk-toggleable__control:checked~label.sk-toggleable__label-arrow:before {content: \"▾\";}#sk-container-id-13 div.sk-estimator input.sk-toggleable__control:checked~label.sk-toggleable__label {background-color: #d4ebff;}#sk-container-id-13 div.sk-label input.sk-toggleable__control:checked~label.sk-toggleable__label {background-color: #d4ebff;}#sk-container-id-13 input.sk-hidden--visually {border: 0;clip: rect(1px 1px 1px 1px);clip: rect(1px, 1px, 1px, 1px);height: 1px;margin: -1px;overflow: hidden;padding: 0;position: absolute;width: 1px;}#sk-container-id-13 div.sk-estimator {font-family: monospace;background-color: #f0f8ff;border: 1px dotted black;border-radius: 0.25em;box-sizing: border-box;margin-bottom: 0.5em;}#sk-container-id-13 div.sk-estimator:hover {background-color: #d4ebff;}#sk-container-id-13 div.sk-parallel-item::after {content: \"\";width: 100%;border-bottom: 1px solid gray;flex-grow: 1;}#sk-container-id-13 div.sk-label:hover label.sk-toggleable__label {background-color: #d4ebff;}#sk-container-id-13 div.sk-serial::before {content: \"\";position: absolute;border-left: 1px solid gray;box-sizing: border-box;top: 0;bottom: 0;left: 50%;z-index: 0;}#sk-container-id-13 div.sk-serial {display: flex;flex-direction: column;align-items: center;background-color: white;padding-right: 0.2em;padding-left: 0.2em;position: relative;}#sk-container-id-13 div.sk-item {position: relative;z-index: 1;}#sk-container-id-13 div.sk-parallel {display: flex;align-items: stretch;justify-content: center;background-color: white;position: relative;}#sk-container-id-13 div.sk-item::before, #sk-container-id-13 div.sk-parallel-item::before {content: \"\";position: absolute;border-left: 1px solid gray;box-sizing: border-box;top: 0;bottom: 0;left: 50%;z-index: -1;}#sk-container-id-13 div.sk-parallel-item {display: flex;flex-direction: column;z-index: 1;position: relative;background-color: white;}#sk-container-id-13 div.sk-parallel-item:first-child::after {align-self: flex-end;width: 50%;}#sk-container-id-13 div.sk-parallel-item:last-child::after {align-self: flex-start;width: 50%;}#sk-container-id-13 div.sk-parallel-item:only-child::after {width: 0;}#sk-container-id-13 div.sk-dashed-wrapped {border: 1px dashed gray;margin: 0 0.4em 0.5em 0.4em;box-sizing: border-box;padding-bottom: 0.4em;background-color: white;}#sk-container-id-13 div.sk-label label {font-family: monospace;font-weight: bold;display: inline-block;line-height: 1.2em;}#sk-container-id-13 div.sk-label-container {text-align: center;}#sk-container-id-13 div.sk-container {/* jupyter's `normalize.less` sets `[hidden] { display: none; }` but bootstrap.min.css set `[hidden] { display: none !important; }` so we also need the `!important` here to be able to override the default hidden behavior on the sphinx rendered scikit-learn.org. See: https://github.com/scikit-learn/scikit-learn/issues/21755 */display: inline-block !important;position: relative;}#sk-container-id-13 div.sk-text-repr-fallback {display: none;}</style><div id=\"sk-container-id-13\" class=\"sk-top-container\"><div class=\"sk-text-repr-fallback\"><pre>SVC(probability=True, random_state=42)</pre><b>In a Jupyter environment, please rerun this cell to show the HTML representation or trust the notebook. <br />On GitHub, the HTML representation is unable to render, please try loading this page with nbviewer.org.</b></div><div class=\"sk-container\" hidden><div class=\"sk-item\"><div class=\"sk-estimator sk-toggleable\"><input class=\"sk-toggleable__control sk-hidden--visually\" id=\"sk-estimator-id-13\" type=\"checkbox\" checked><label for=\"sk-estimator-id-13\" class=\"sk-toggleable__label sk-toggleable__label-arrow\">SVC</label><div class=\"sk-toggleable__content\"><pre>SVC(probability=True, random_state=42)</pre></div></div></div></div></div>"
      ],
      "text/plain": [
       "SVC(probability=True, random_state=42)"
      ]
     },
     "execution_count": 153,
     "metadata": {},
     "output_type": "execute_result"
    }
   ],
   "source": [
    "svm_rbf.fit(X_train, y_train)"
   ]
  },
  {
   "cell_type": "code",
   "execution_count": 154,
   "id": "a3ed55f0-4fbf-44da-8535-e2c216b3e134",
   "metadata": {},
   "outputs": [],
   "source": [
    "y_train_pred = svm_rbf.predict(X_train)"
   ]
  },
  {
   "cell_type": "code",
   "execution_count": 155,
   "id": "ec7d5eff-68de-4c6e-bf1c-8fc2f0cffc9e",
   "metadata": {},
   "outputs": [],
   "source": [
    "y_train_acc = metrics.accuracy_score(y_train, y_train_pred)\n",
    "y_train_pre = metrics.precision_score(y_train, y_train_pred, average='weighted')\n",
    "y_train_rec = metrics.recall_score(y_train, y_train_pred, average='weighted')"
   ]
  },
  {
   "cell_type": "code",
   "execution_count": 156,
   "id": "14127529-d318-48bc-8499-4d3cf80b0a89",
   "metadata": {},
   "outputs": [
    {
     "name": "stdout",
     "output_type": "stream",
     "text": [
      "SVM (guassian) Accuracy on train dataset: 0.9840006439992353\n",
      "SVM (guassian) Precision on train dataset: 0.9841790806660687\n",
      "SVM (guassian) Recall on train dataset: 0.9840006439992353\n"
     ]
    }
   ],
   "source": [
    "print('SVM (guassian) Accuracy on train dataset:', y_train_acc)\n",
    "print('SVM (guassian) Precision on train dataset:', y_train_pre)\n",
    "print('SVM (guassian) Recall on train dataset:', y_train_rec)"
   ]
  },
  {
   "cell_type": "markdown",
   "id": "d8d8986a-e158-40ee-bd1f-bef6dee65737",
   "metadata": {},
   "source": [
    "#### Testing"
   ]
  },
  {
   "cell_type": "code",
   "execution_count": 157,
   "id": "894ded50-f123-4641-8581-5e2d34b73060",
   "metadata": {},
   "outputs": [],
   "source": [
    "y_test_preds = svm_rbf.predict(X_test)\n",
    "y_test_probs = svm_rbf.predict_proba(X_test)"
   ]
  },
  {
   "cell_type": "code",
   "execution_count": 158,
   "id": "818f512c-76bc-46c9-b940-7f118b5e12d2",
   "metadata": {},
   "outputs": [],
   "source": [
    "y_test_acc = metrics.accuracy_score(y_test, y_test_preds)\n",
    "y_test_pre = metrics.precision_score(y_test, y_test_preds, average='weighted')\n",
    "y_test_rec = metrics.recall_score(y_test, y_test_preds, average='weighted')\n",
    "y_test_cnf_matrix = metrics.confusion_matrix(y_test, y_test_preds)"
   ]
  },
  {
   "cell_type": "code",
   "execution_count": 159,
   "id": "5b091b3e-5a5f-40a4-872b-e55c3f6e3a7f",
   "metadata": {},
   "outputs": [
    {
     "name": "stdout",
     "output_type": "stream",
     "text": [
      "SVM (guassian) Accuracy on test dataset: 0.983336855133275\n",
      "SVM (guassian) Precision on test dataset: 0.9834806022740616\n",
      "SVM (guassian) Recall on test dataset: 0.983336855133275\n"
     ]
    }
   ],
   "source": [
    "print('SVM (guassian) Accuracy on test dataset:', y_test_acc)\n",
    "print('SVM (guassian) Precision on test dataset:', y_test_pre)\n",
    "print('SVM (guassian) Recall on test dataset:', y_test_rec)"
   ]
  },
  {
   "cell_type": "code",
   "execution_count": 160,
   "id": "fe346261-48c9-40bb-90de-031f505991b5",
   "metadata": {},
   "outputs": [
    {
     "data": {
      "text/plain": [
       "<AxesSubplot: title={'center': 'Confusion Matrix on Test for SVM (guassian)'}>"
      ]
     },
     "execution_count": 160,
     "metadata": {},
     "output_type": "execute_result"
    },
    {
     "data": {
      "image/png": "[encoded data removed]",
      "text/plain": [
       "<Figure size 720x720 with 2 Axes>"
      ]
     },
     "metadata": {
      "needs_background": "light"
     },
     "output_type": "display_data"
    }
   ],
   "source": [
    "plt.figure(figsize=(10,10))\n",
    "plt.title(\"Confusion Matrix on Test for SVM (guassian)\")\n",
    "cm_matrix = pd.DataFrame(data=y_test_cnf_matrix, columns=['Actual Sitting:0', 'Actual Sittingdown:1', 'Actual Standing:2', 'Actual Standingup:3', 'Actual Walking:4'], \n",
    "                                 index=['Predict Sitting:0', 'Predict Sittingdown:1', 'Predict Standing:2', 'Predict Standingup:3', 'Predict Walking:4'])\n",
    "\n",
    "sns.heatmap(cm_matrix, annot=True, fmt='d', cmap='rocket_r')"
   ]
  },
  {
   "cell_type": "markdown",
   "id": "cfd90916-b14b-4b36-acbc-2be4584fef1c",
   "metadata": {},
   "source": [
    "### Kernel: poly (degree = 3) "
   ]
  },
  {
   "cell_type": "code",
   "execution_count": 119,
   "id": "76e7fd16-0ada-43ff-99f5-8c1802e72fcf",
   "metadata": {},
   "outputs": [],
   "source": [
    "svm_poly = SVC(kernel ='poly', degree = 3, random_state = 42, C=1.0)"
   ]
  },
  {
   "cell_type": "code",
   "execution_count": 120,
   "id": "a7d537d2-9a3a-425c-8804-82b86f639422",
   "metadata": {},
   "outputs": [
    {
     "data": {
      "text/html": [
       "<style>#sk-container-id-12 {color: black;background-color: white;}#sk-container-id-12 pre{padding: 0;}#sk-container-id-12 div.sk-toggleable {background-color: white;}#sk-container-id-12 label.sk-toggleable__label {cursor: pointer;display: block;width: 100%;margin-bottom: 0;padding: 0.3em;box-sizing: border-box;text-align: center;}#sk-container-id-12 label.sk-toggleable__label-arrow:before {content: \"▸\";float: left;margin-right: 0.25em;color: #696969;}#sk-container-id-12 label.sk-toggleable__label-arrow:hover:before {color: black;}#sk-container-id-12 div.sk-estimator:hover label.sk-toggleable__label-arrow:before {color: black;}#sk-container-id-12 div.sk-toggleable__content {max-height: 0;max-width: 0;overflow: hidden;text-align: left;background-color: #f0f8ff;}#sk-container-id-12 div.sk-toggleable__content pre {margin: 0.2em;color: black;border-radius: 0.25em;background-color: #f0f8ff;}#sk-container-id-12 input.sk-toggleable__control:checked~div.sk-toggleable__content {max-height: 200px;max-width: 100%;overflow: auto;}#sk-container-id-12 input.sk-toggleable__control:checked~label.sk-toggleable__label-arrow:before {content: \"▾\";}#sk-container-id-12 div.sk-estimator input.sk-toggleable__control:checked~label.sk-toggleable__label {background-color: #d4ebff;}#sk-container-id-12 div.sk-label input.sk-toggleable__control:checked~label.sk-toggleable__label {background-color: #d4ebff;}#sk-container-id-12 input.sk-hidden--visually {border: 0;clip: rect(1px 1px 1px 1px);clip: rect(1px, 1px, 1px, 1px);height: 1px;margin: -1px;overflow: hidden;padding: 0;position: absolute;width: 1px;}#sk-container-id-12 div.sk-estimator {font-family: monospace;background-color: #f0f8ff;border: 1px dotted black;border-radius: 0.25em;box-sizing: border-box;margin-bottom: 0.5em;}#sk-container-id-12 div.sk-estimator:hover {background-color: #d4ebff;}#sk-container-id-12 div.sk-parallel-item::after {content: \"\";width: 100%;border-bottom: 1px solid gray;flex-grow: 1;}#sk-container-id-12 div.sk-label:hover label.sk-toggleable__label {background-color: #d4ebff;}#sk-container-id-12 div.sk-serial::before {content: \"\";position: absolute;border-left: 1px solid gray;box-sizing: border-box;top: 0;bottom: 0;left: 50%;z-index: 0;}#sk-container-id-12 div.sk-serial {display: flex;flex-direction: column;align-items: center;background-color: white;padding-right: 0.2em;padding-left: 0.2em;position: relative;}#sk-container-id-12 div.sk-item {position: relative;z-index: 1;}#sk-container-id-12 div.sk-parallel {display: flex;align-items: stretch;justify-content: center;background-color: white;position: relative;}#sk-container-id-12 div.sk-item::before, #sk-container-id-12 div.sk-parallel-item::before {content: \"\";position: absolute;border-left: 1px solid gray;box-sizing: border-box;top: 0;bottom: 0;left: 50%;z-index: -1;}#sk-container-id-12 div.sk-parallel-item {display: flex;flex-direction: column;z-index: 1;position: relative;background-color: white;}#sk-container-id-12 div.sk-parallel-item:first-child::after {align-self: flex-end;width: 50%;}#sk-container-id-12 div.sk-parallel-item:last-child::after {align-self: flex-start;width: 50%;}#sk-container-id-12 div.sk-parallel-item:only-child::after {width: 0;}#sk-container-id-12 div.sk-dashed-wrapped {border: 1px dashed gray;margin: 0 0.4em 0.5em 0.4em;box-sizing: border-box;padding-bottom: 0.4em;background-color: white;}#sk-container-id-12 div.sk-label label {font-family: monospace;font-weight: bold;display: inline-block;line-height: 1.2em;}#sk-container-id-12 div.sk-label-container {text-align: center;}#sk-container-id-12 div.sk-container {/* jupyter's `normalize.less` sets `[hidden] { display: none; }` but bootstrap.min.css set `[hidden] { display: none !important; }` so we also need the `!important` here to be able to override the default hidden behavior on the sphinx rendered scikit-learn.org. See: https://github.com/scikit-learn/scikit-learn/issues/21755 */display: inline-block !important;position: relative;}#sk-container-id-12 div.sk-text-repr-fallback {display: none;}</style><div id=\"sk-container-id-12\" class=\"sk-top-container\"><div class=\"sk-text-repr-fallback\"><pre>SVC(kernel=&#x27;poly&#x27;, random_state=42)</pre><b>In a Jupyter environment, please rerun this cell to show the HTML representation or trust the notebook. <br />On GitHub, the HTML representation is unable to render, please try loading this page with nbviewer.org.</b></div><div class=\"sk-container\" hidden><div class=\"sk-item\"><div class=\"sk-estimator sk-toggleable\"><input class=\"sk-toggleable__control sk-hidden--visually\" id=\"sk-estimator-id-12\" type=\"checkbox\" checked><label for=\"sk-estimator-id-12\" class=\"sk-toggleable__label sk-toggleable__label-arrow\">SVC</label><div class=\"sk-toggleable__content\"><pre>SVC(kernel=&#x27;poly&#x27;, random_state=42)</pre></div></div></div></div></div>"
      ],
      "text/plain": [
       "SVC(kernel='poly', random_state=42)"
      ]
     },
     "execution_count": 120,
     "metadata": {},
     "output_type": "execute_result"
    }
   ],
   "source": [
    "svm_poly.fit(X_train, y_train)"
   ]
  },
  {
   "cell_type": "code",
   "execution_count": 121,
   "id": "759e9cbf-48d8-49c9-bf0c-c1f10e1b5d96",
   "metadata": {},
   "outputs": [],
   "source": [
    "y_train_pred = svm_poly.predict(X_train)"
   ]
  },
  {
   "cell_type": "code",
   "execution_count": 122,
   "id": "22174f31-2ccb-4046-b144-799357d33672",
   "metadata": {},
   "outputs": [],
   "source": [
    "y_train_acc = metrics.accuracy_score(y_train, y_train_pred)\n",
    "y_train_pre = metrics.precision_score(y_train, y_train_pred, average='weighted')\n",
    "y_train_rec = metrics.recall_score(y_train, y_train_pred, average='weighted')"
   ]
  },
  {
   "cell_type": "code",
   "execution_count": 123,
   "id": "ded83c29-6495-46df-9e66-61ea25f97312",
   "metadata": {},
   "outputs": [
    {
     "name": "stdout",
     "output_type": "stream",
     "text": [
      "SVM (poly) Accuracy on train dataset: 0.9747330925044526\n",
      "SVM (poly) Precision on train dataset: 0.9754997811625453\n",
      "SVM (poly) Recall on train dataset: 0.9747330925044526\n"
     ]
    }
   ],
   "source": [
    "print('SVM (poly) Accuracy on train dataset:', y_train_acc)\n",
    "print('SVM (poly) Precision on train dataset:', y_train_pre)\n",
    "print('SVM (poly) Recall on train dataset:', y_train_rec)"
   ]
  },
  {
   "cell_type": "markdown",
   "id": "1dcaf83a-42d0-49bb-a80f-9816c2b08462",
   "metadata": {},
   "source": [
    "#### Testing"
   ]
  },
  {
   "cell_type": "code",
   "execution_count": 96,
   "id": "daee32f2-3b10-4371-9b54-aaaa3e4c226b",
   "metadata": {},
   "outputs": [],
   "source": [
    "y_test_preds = svm_poly.predict(X_test)"
   ]
  },
  {
   "cell_type": "code",
   "execution_count": 97,
   "id": "f547ecdf-587a-49ce-b390-23bc7c2c63a5",
   "metadata": {},
   "outputs": [],
   "source": [
    "y_test_acc = metrics.accuracy_score(y_test, y_test_preds)\n",
    "y_test_pre = metrics.precision_score(y_test, y_test_preds, average='weighted')\n",
    "y_test_rec = metrics.recall_score(y_test, y_test_preds, average='weighted')\n",
    "y_test_cnf_matrix = metrics.confusion_matrix(y_test, y_test_preds)"
   ]
  },
  {
   "cell_type": "code",
   "execution_count": 98,
   "id": "0380035f-01fc-45e8-9f78-0a946fe1df4d",
   "metadata": {},
   "outputs": [
    {
     "name": "stdout",
     "output_type": "stream",
     "text": [
      "SVM (poly) Accuracy on test dataset: 0.9731789778730341\n",
      "SVM (poly) Precision on test dataset: 0.9739020239422639\n",
      "SVM (poly) Recall on test dataset: 0.9731789778730341\n"
     ]
    }
   ],
   "source": [
    "print('SVM (poly) Accuracy on test dataset:', y_test_acc)\n",
    "print('SVM (poly) Precision on test dataset:', y_test_pre)\n",
    "print('SVM (poly) Recall on test dataset:', y_test_rec)"
   ]
  },
  {
   "cell_type": "code",
   "execution_count": 99,
   "id": "b40ff382-e354-498a-a479-90ace7910cfd",
   "metadata": {},
   "outputs": [
    {
     "data": {
      "text/plain": [
       "<AxesSubplot: title={'center': 'Confusion Matrix on Test for SVM (poly)'}>"
      ]
     },
     "execution_count": 99,
     "metadata": {},
     "output_type": "execute_result"
    },
    {
     "data": {
      "image/png": "[encoded data removed]",
      "text/plain": [
       "<Figure size 720x720 with 2 Axes>"
      ]
     },
     "metadata": {
      "needs_background": "light"
     },
     "output_type": "display_data"
    }
   ],
   "source": [
    "plt.figure(figsize=(10,10))\n",
    "plt.title(\"Confusion Matrix on Test for SVM (poly)\")\n",
    "cm_matrix = pd.DataFrame(data=y_test_cnf_matrix, columns=['Actual Sitting:0', 'Actual Sittingdown:1', 'Actual Standing:2', 'Actual Standingup:3', 'Actual Walking:4'], \n",
    "                                 index=['Predict Sitting:0', 'Predict Sittingdown:1', 'Predict Standing:2', 'Predict Standingup:3', 'Predict Walking:4'])\n",
    "\n",
    "sns.heatmap(cm_matrix, annot=True, fmt='d', cmap='rocket_r')"
   ]
  }
 ],
 "metadata": {
  "kernelspec": {
   "display_name": "Python 3",
   "language": "python",
   "name": "python3"
  },
  "language_info": {
   "codemirror_mode": {
    "name": "ipython",
    "version": 3
   },
   "file_extension": ".py",
   "mimetype": "text/x-python",
   "name": "python",
   "nbconvert_exporter": "python",
   "pygments_lexer": "ipython3",
   "version": "3.9.6 (default, Mar 10 2023, 20:16:38) \n[Clang 14.0.3 (clang-1403.0.22.14.1)]"
  },
  "vscode": {
   "interpreter": {
    "hash": "31f2aee4e71d21fbe5cf8b01ff0e069b9275f58929596ceb00d14d90e3e16cd6"
   }
  }
 },
 "nbformat": 4,
 "nbformat_minor": 5
}
